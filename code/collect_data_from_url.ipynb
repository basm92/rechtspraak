{
 "cells": [
  {
   "cell_type": "code",
   "execution_count": 1,
   "id": "9f18c8b0",
   "metadata": {},
   "outputs": [],
   "source": [
    "import pandas as pd\n",
    "import numpy as np\n",
    "import requests\n",
    "import re\n",
    "\n",
    "from bs4 import BeautifulSoup\n",
    "import locale\n",
    "import time\n",
    "locale.setlocale(locale.LC_ALL, 'nl_NL.UTF-8')\n",
    "\n",
    "import aux\n",
    "\n",
    "from selenium import webdriver\n",
    "from selenium.webdriver.common.by import By"
   ]
  },
  {
   "cell_type": "code",
   "execution_count": 2,
   "id": "47d73b1d",
   "metadata": {},
   "outputs": [
    {
     "data": {
      "text/html": [
       "<div>\n",
       "<style scoped>\n",
       "    .dataframe tbody tr th:only-of-type {\n",
       "        vertical-align: middle;\n",
       "    }\n",
       "\n",
       "    .dataframe tbody tr th {\n",
       "        vertical-align: top;\n",
       "    }\n",
       "\n",
       "    .dataframe thead th {\n",
       "        text-align: right;\n",
       "    }\n",
       "</style>\n",
       "<table border=\"1\" class=\"dataframe\">\n",
       "  <thead>\n",
       "    <tr style=\"text-align: right;\">\n",
       "      <th></th>\n",
       "      <th>Instantie</th>\n",
       "      <th>Datum uitspraak</th>\n",
       "      <th>Datum publicatie</th>\n",
       "      <th>Zaaknummer</th>\n",
       "      <th>Rechtsgebieden</th>\n",
       "      <th>Bijzondere kenmerken</th>\n",
       "      <th>Inhoudsindicatie</th>\n",
       "      <th>Vindplaatsen</th>\n",
       "      <th>Unnamed: 9</th>\n",
       "      <th>Wetsverwijzingen</th>\n",
       "      <th>Formele relaties</th>\n",
       "    </tr>\n",
       "  </thead>\n",
       "  <tbody>\n",
       "    <tr>\n",
       "      <th>0</th>\n",
       "      <td>Rechtbank Den Haag</td>\n",
       "      <td>09-11-2022</td>\n",
       "      <td>09-11-2022</td>\n",
       "      <td>C-09-632745-KG ZA 22-669</td>\n",
       "      <td>Civiel recht</td>\n",
       "      <td>Kort geding</td>\n",
       "      <td>Kort geding. Vordering om Staat te verbieden e...</td>\n",
       "      <td>Rechtspraak.nl</td>\n",
       "      <td>Verrijkte uitspraak</td>\n",
       "      <td>NaN</td>\n",
       "      <td>NaN</td>\n",
       "    </tr>\n",
       "    <tr>\n",
       "      <th>1</th>\n",
       "      <td>Rechtbank Den Haag</td>\n",
       "      <td>09-11-2022</td>\n",
       "      <td>09-11-2022</td>\n",
       "      <td>C/09/609567 / HA ZA 21-300</td>\n",
       "      <td>Civiel recht</td>\n",
       "      <td>Bodemzaak\\nEerste aanleg - meervoudig</td>\n",
       "      <td>Beroep op volledige nadeelscompensatie (voor o...</td>\n",
       "      <td>Rechtspraak.nl</td>\n",
       "      <td>Verrijkte uitspraak</td>\n",
       "      <td>NaN</td>\n",
       "      <td>NaN</td>\n",
       "    </tr>\n",
       "    <tr>\n",
       "      <th>2</th>\n",
       "      <td>Rechtbank Den Haag</td>\n",
       "      <td>09-11-2022</td>\n",
       "      <td>09-11-2022</td>\n",
       "      <td>C/09/601949 / HA ZA 20-1067</td>\n",
       "      <td>Civiel recht</td>\n",
       "      <td>Bodemzaak\\nEerste aanleg - meervoudig</td>\n",
       "      <td>Geschil over het uit de VVD-fractie zetten van...</td>\n",
       "      <td>Rechtspraak.nl</td>\n",
       "      <td>Verrijkte uitspraak</td>\n",
       "      <td>NaN</td>\n",
       "      <td>NaN</td>\n",
       "    </tr>\n",
       "    <tr>\n",
       "      <th>3</th>\n",
       "      <td>Rechtbank Den Haag</td>\n",
       "      <td>07-11-2022</td>\n",
       "      <td>08-11-2022</td>\n",
       "      <td>C/09/623033 / FA RK 21-8848</td>\n",
       "      <td>Personen- en familierecht</td>\n",
       "      <td>Beschikking</td>\n",
       "      <td>Vaststellen van een verlengde onderhoudsplicht...</td>\n",
       "      <td>Rechtspraak.nl</td>\n",
       "      <td>Verrijkte uitspraak</td>\n",
       "      <td>NaN</td>\n",
       "      <td>NaN</td>\n",
       "    </tr>\n",
       "    <tr>\n",
       "      <th>4</th>\n",
       "      <td>Rechtbank Rotterdam</td>\n",
       "      <td>04-11-2022</td>\n",
       "      <td>04-11-2022</td>\n",
       "      <td>C/10/645656 / KG ZA 22-837</td>\n",
       "      <td>Civiel recht</td>\n",
       "      <td>Kort geding</td>\n",
       "      <td>Kort geding; vordering tegen bestuurdersaanspr...</td>\n",
       "      <td>Rechtspraak.nl</td>\n",
       "      <td>Verrijkte uitspraak</td>\n",
       "      <td>NaN</td>\n",
       "      <td>NaN</td>\n",
       "    </tr>\n",
       "  </tbody>\n",
       "</table>\n",
       "</div>"
      ],
      "text/plain": [
       "             Instantie Datum uitspraak Datum publicatie  \\\n",
       "0   Rechtbank Den Haag      09-11-2022       09-11-2022   \n",
       "1   Rechtbank Den Haag      09-11-2022       09-11-2022   \n",
       "2   Rechtbank Den Haag      09-11-2022       09-11-2022   \n",
       "3   Rechtbank Den Haag      07-11-2022       08-11-2022   \n",
       "4  Rechtbank Rotterdam      04-11-2022       04-11-2022   \n",
       "\n",
       "                    Zaaknummer             Rechtsgebieden  \\\n",
       "0     C-09-632745-KG ZA 22-669               Civiel recht   \n",
       "1   C/09/609567 / HA ZA 21-300               Civiel recht   \n",
       "2  C/09/601949 / HA ZA 20-1067               Civiel recht   \n",
       "3  C/09/623033 / FA RK 21-8848  Personen- en familierecht   \n",
       "4   C/10/645656 / KG ZA 22-837               Civiel recht   \n",
       "\n",
       "                    Bijzondere kenmerken  \\\n",
       "0                            Kort geding   \n",
       "1  Bodemzaak\\nEerste aanleg - meervoudig   \n",
       "2  Bodemzaak\\nEerste aanleg - meervoudig   \n",
       "3                            Beschikking   \n",
       "4                            Kort geding   \n",
       "\n",
       "                                    Inhoudsindicatie    Vindplaatsen  \\\n",
       "0  Kort geding. Vordering om Staat te verbieden e...  Rechtspraak.nl   \n",
       "1  Beroep op volledige nadeelscompensatie (voor o...  Rechtspraak.nl   \n",
       "2  Geschil over het uit de VVD-fractie zetten van...  Rechtspraak.nl   \n",
       "3  Vaststellen van een verlengde onderhoudsplicht...  Rechtspraak.nl   \n",
       "4  Kort geding; vordering tegen bestuurdersaanspr...  Rechtspraak.nl   \n",
       "\n",
       "            Unnamed: 9 Wetsverwijzingen Formele relaties  \n",
       "0  Verrijkte uitspraak              NaN              NaN  \n",
       "1  Verrijkte uitspraak              NaN              NaN  \n",
       "2  Verrijkte uitspraak              NaN              NaN  \n",
       "3  Verrijkte uitspraak              NaN              NaN  \n",
       "4  Verrijkte uitspraak              NaN              NaN  "
      ]
     },
     "execution_count": 2,
     "metadata": {},
     "output_type": "execute_result"
    }
   ],
   "source": [
    "pd.read_table(\"../data/trial_small/metadata_in.csv\", index_col = 0).head(5)"
   ]
  },
  {
   "cell_type": "code",
   "execution_count": 3,
   "id": "97e24478",
   "metadata": {},
   "outputs": [
    {
     "data": {
      "text/html": [
       "<div>\n",
       "<style scoped>\n",
       "    .dataframe tbody tr th:only-of-type {\n",
       "        vertical-align: middle;\n",
       "    }\n",
       "\n",
       "    .dataframe tbody tr th {\n",
       "        vertical-align: top;\n",
       "    }\n",
       "\n",
       "    .dataframe thead th {\n",
       "        text-align: right;\n",
       "    }\n",
       "</style>\n",
       "<table border=\"1\" class=\"dataframe\">\n",
       "  <thead>\n",
       "    <tr style=\"text-align: right;\">\n",
       "      <th></th>\n",
       "      <th>index</th>\n",
       "      <th>Datum uitspraak:</th>\n",
       "      <th>Datum publicatie:</th>\n",
       "      <th>Rechtsgebieden:</th>\n",
       "      <th>Bijzondere kenmerken:</th>\n",
       "      <th>Vindplaatsen:</th>\n",
       "      <th>Inhoudsindicatie:</th>\n",
       "      <th>Formele relaties:</th>\n",
       "    </tr>\n",
       "  </thead>\n",
       "  <tbody>\n",
       "    <tr>\n",
       "      <th>0</th>\n",
       "      <td>https://uitspraken.rechtspraak.nl/inziendocume...</td>\n",
       "      <td>09-11-2022</td>\n",
       "      <td>09-11-2022</td>\n",
       "      <td>Civiel recht</td>\n",
       "      <td>Kort geding</td>\n",
       "      <td>Rechtspraak.nl</td>\n",
       "      <td>Kort geding. Vordering om Staat te verbieden e...</td>\n",
       "      <td>NaN</td>\n",
       "    </tr>\n",
       "    <tr>\n",
       "      <th>1</th>\n",
       "      <td>https://uitspraken.rechtspraak.nl/inziendocume...</td>\n",
       "      <td>09-11-2022</td>\n",
       "      <td>09-11-2022</td>\n",
       "      <td>Civiel recht</td>\n",
       "      <td>Bodemzaak, Eerste aanleg - meervoudig</td>\n",
       "      <td>Rechtspraak.nl</td>\n",
       "      <td>Beroep op volledige nadeelscompensatie (voor o...</td>\n",
       "      <td>NaN</td>\n",
       "    </tr>\n",
       "    <tr>\n",
       "      <th>2</th>\n",
       "      <td>https://uitspraken.rechtspraak.nl/inziendocume...</td>\n",
       "      <td>09-11-2022</td>\n",
       "      <td>09-11-2022</td>\n",
       "      <td>Civiel recht</td>\n",
       "      <td>Bodemzaak, Eerste aanleg - meervoudig</td>\n",
       "      <td>Rechtspraak.nl</td>\n",
       "      <td>Geschil over het uit de VVD-fractie zetten van...</td>\n",
       "      <td>NaN</td>\n",
       "    </tr>\n",
       "    <tr>\n",
       "      <th>3</th>\n",
       "      <td>https://uitspraken.rechtspraak.nl/inziendocume...</td>\n",
       "      <td>07-11-2022</td>\n",
       "      <td>08-11-2022</td>\n",
       "      <td>Personen- en familierecht</td>\n",
       "      <td>Beschikking</td>\n",
       "      <td>Rechtspraak.nl</td>\n",
       "      <td>Vaststellen van een verlengde onderhoudsplicht...</td>\n",
       "      <td>NaN</td>\n",
       "    </tr>\n",
       "    <tr>\n",
       "      <th>4</th>\n",
       "      <td>https://uitspraken.rechtspraak.nl/inziendocume...</td>\n",
       "      <td>04-11-2022</td>\n",
       "      <td>04-11-2022</td>\n",
       "      <td>Civiel recht</td>\n",
       "      <td>Kort geding</td>\n",
       "      <td>Rechtspraak.nl</td>\n",
       "      <td>Kort geding; vordering tegen bestuurdersaanspr...</td>\n",
       "      <td>NaN</td>\n",
       "    </tr>\n",
       "  </tbody>\n",
       "</table>\n",
       "</div>"
      ],
      "text/plain": [
       "                                               index Datum uitspraak:  \\\n",
       "0  https://uitspraken.rechtspraak.nl/inziendocume...       09-11-2022   \n",
       "1  https://uitspraken.rechtspraak.nl/inziendocume...       09-11-2022   \n",
       "2  https://uitspraken.rechtspraak.nl/inziendocume...       09-11-2022   \n",
       "3  https://uitspraken.rechtspraak.nl/inziendocume...       07-11-2022   \n",
       "4  https://uitspraken.rechtspraak.nl/inziendocume...       04-11-2022   \n",
       "\n",
       "  Datum publicatie:            Rechtsgebieden:  \\\n",
       "0        09-11-2022               Civiel recht   \n",
       "1        09-11-2022               Civiel recht   \n",
       "2        09-11-2022               Civiel recht   \n",
       "3        08-11-2022  Personen- en familierecht   \n",
       "4        04-11-2022               Civiel recht   \n",
       "\n",
       "                   Bijzondere kenmerken:   Vindplaatsen:  \\\n",
       "0                            Kort geding  Rechtspraak.nl   \n",
       "1  Bodemzaak, Eerste aanleg - meervoudig  Rechtspraak.nl   \n",
       "2  Bodemzaak, Eerste aanleg - meervoudig  Rechtspraak.nl   \n",
       "3                            Beschikking  Rechtspraak.nl   \n",
       "4                            Kort geding  Rechtspraak.nl   \n",
       "\n",
       "                                   Inhoudsindicatie: Formele relaties:  \n",
       "0  Kort geding. Vordering om Staat te verbieden e...               NaN  \n",
       "1  Beroep op volledige nadeelscompensatie (voor o...               NaN  \n",
       "2  Geschil over het uit de VVD-fractie zetten van...               NaN  \n",
       "3  Vaststellen van een verlengde onderhoudsplicht...               NaN  \n",
       "4  Kort geding; vordering tegen bestuurdersaanspr...               NaN  "
      ]
     },
     "execution_count": 3,
     "metadata": {},
     "output_type": "execute_result"
    }
   ],
   "source": [
    "pd.read_table(\"../data/trial_small/metadata_out.csv\", index_col = 0).head(5)"
   ]
  },
  {
   "cell_type": "code",
   "execution_count": 4,
   "id": "50c44731",
   "metadata": {},
   "outputs": [],
   "source": [
    "# Coalesce the columns for Beslissing and De Beslissing\n",
    "text = pd.read_table(\"../data/trial_small/data.csv\", index_col = 0)\n",
    "text['De beslissing'] = text['De beslissing'].combine_first(text['Beslissing'])\n",
    "text = text.drop(['Beslissing'], axis = 1)\n",
    "\n",
    "# Coalesce the columns for De Beoordeling and De beoordeling van het geschil\n",
    "text['De beoordeling'] = text['De beoordeling'].combine_first(text['De beoordeling van het geschil'])\n",
    "text = text.drop(['De beoordeling van het geschil'], axis = 1)"
   ]
  },
  {
   "cell_type": "code",
   "execution_count": 5,
   "id": "feffd8bc",
   "metadata": {},
   "outputs": [],
   "source": [
    "# now write a function to extract the plaintiffs and defendants:\n",
    "# This is what should be in the for loop over all urls\n",
    "url = \"https://uitspraken.rechtspraak.nl/#!/details?id=ECLI:NL:RBDHA:2022:11389&showbutton=true\"\n",
    "\n",
    "driver = webdriver.Chrome()\n",
    "driver.get(url)\n",
    "\n",
    "time.sleep(3)\n",
    "page = driver.execute_script('return document.body.innerHTML')\n",
    "soup = BeautifulSoup(page, 'html.parser')\n",
    "driver.close()\n"
   ]
  },
  {
   "cell_type": "code",
   "execution_count": 6,
   "id": "70c38940",
   "metadata": {},
   "outputs": [],
   "source": [
    "# Extract plaintiffs and defendants\n",
    "# Find the div with the text \"The desired text\"\n",
    "desired_text = soup.find(\"p\", text=\"in de zaak van\").parent.parent\n",
    "# Find the next div after the desired text\n",
    "desired_div = desired_text.find_next_sibling(\"div\")\n",
    "plaintiffs = desired_div\n",
    "\n",
    "desired_text = soup.find(\"p\", text=\"tegen\").parent.parent\n",
    "desired_div = desired_text.find_next_sibling(\"div\")\n",
    "defendants = desired_div"
   ]
  },
  {
   "cell_type": "code",
   "execution_count": 7,
   "id": "1a6b0779",
   "metadata": {},
   "outputs": [
    {
     "data": {
      "text/plain": [
       "['',\n",
       " '1  [eiseres 1] , te [plaats 1] ,',\n",
       " '1',\n",
       " '2.\\t[eiseres 2] B.V., te [plaats 1] ,',\n",
       " '[eiseres 2] B.V.',\n",
       " '3.\\tSBR POWERHOUSE B.V., te Den Haag,',\n",
       " 'SBR POWERHOUSE B.V.',\n",
       " '4.\\tMYOBI B.V., te Den Haag,',\n",
       " 'MYOBI B.V.',\n",
       " '']"
      ]
     },
     "execution_count": 7,
     "metadata": {},
     "output_type": "execute_result"
    }
   ],
   "source": [
    "# Extract the plaintiffs and defendants exactly (noise can be removed later)\n",
    "aux.extract_text_until(defendants, \"parablock\").split(\"\\n\")\n",
    "aux.extract_text_until(plaintiffs, \"parablock\").split('\\n')"
   ]
  },
  {
   "cell_type": "code",
   "execution_count": 8,
   "id": "7dd12ccd",
   "metadata": {},
   "outputs": [
    {
     "data": {
      "text/plain": [
       "['advocaat mr. Ch.E. Koster te Den Haag, ']"
      ]
     },
     "execution_count": 8,
     "metadata": {},
     "output_type": "execute_result"
    }
   ],
   "source": [
    "# Extract their lawyers if present\n",
    "defendants.find_all(text = lambda text: re.search(r'mr|advocaat|gemachtig', text))\n",
    "plaintiffs.find_all(text = lambda text: re.search(r'mr|advocaat|gemachtig', text))"
   ]
  },
  {
   "cell_type": "code",
   "execution_count": 9,
   "id": "9bfc296b",
   "metadata": {},
   "outputs": [],
   "source": [
    "# Bedrag?\n",
    "## check conventie/reconventie\n",
    "## loop through variables text instead of text['Het geschil'].iloc[i]\n",
    "## set operator because otherwise numbers are being mentioned more than once, filter that out\n",
    "geschil = text['Het geschil'].iloc[7]\n",
    "\n",
    "## if reconventie\n",
    "if re.search(r'reconventie', geschil):\n",
    "    conventie = re.search(r\".*reconventie\", geschil).group(0)\n",
    "    reconventie = re.search(r\"reconventie.*\", geschil).group(0)\n",
    "    \n",
    "    raw_conventie = re.findall(r\"€ .*?\\s\", conventie)\n",
    "    raw_reconventie = re.findall(r\"€ .*?\\s\", reconventie)\n",
    "    \n",
    "    unique_numbers_conventie = set([aux.convert_money(x) for x in raw_conventie])\n",
    "    unique_numbers_reconventie = set([aux.convert_money(x) for x in raw_reconventie])\n",
    "    \n",
    "## if no reconventie    \n",
    "else: \n",
    "    raw_numbers = re.findall(r\"€ .*?\\s\", geschil)\n",
    "    numbers = [convert_money(x) for x in raw_numbers]\n",
    "    unique_numbers = set(numbers)\n",
    "    \n"
   ]
  },
  {
   "cell_type": "code",
   "execution_count": 10,
   "id": "4eed81ff",
   "metadata": {},
   "outputs": [],
   "source": [
    "# Volledig toegewezen/afgewezen?\n",
    "conventie = re.search(r\".*reconventie\", geschil).group(0)\n",
    "reconventie = re.search(r\"reconventie.*\", geschil).group(0)\n",
    "    \n",
    "raw_conventie = re.findall(r\"€ .*?\\s\", conventie)\n",
    "raw_reconventie = re.findall(r\"€ .*?\\s\", reconventie)\n",
    "\n",
    "unique_numbers_conventie = set([aux.convert_money(x) for x in raw_conventie])\n",
    "unique_numbers_reconventie = set([aux.convert_money(x) for x in raw_reconventie])"
   ]
  },
  {
   "cell_type": "code",
   "execution_count": 11,
   "id": "28dddabb",
   "metadata": {},
   "outputs": [
    {
     "data": {
      "text/plain": [
       "{555.71, 4307.07, 4862.78}"
      ]
     },
     "execution_count": 11,
     "metadata": {},
     "output_type": "execute_result"
    }
   ],
   "source": [
    "unique_numbers_conventie"
   ]
  },
  {
   "cell_type": "code",
   "execution_count": 12,
   "id": "e503fd0e",
   "metadata": {},
   "outputs": [
    {
     "data": {
      "text/plain": [
       "{498.69, 2871.38}"
      ]
     },
     "execution_count": 12,
     "metadata": {},
     "output_type": "execute_result"
    }
   ],
   "source": [
    "unique_numbers_reconventie"
   ]
  },
  {
   "cell_type": "code",
   "execution_count": 86,
   "id": "fba41a30",
   "metadata": {},
   "outputs": [
    {
     "data": {
      "text/plain": [
       "{0: set(), 1: set(), 2: {1692.0}, 3: {85.0, 163.0}, 4: set()}"
      ]
     },
     "execution_count": 86,
     "metadata": {},
     "output_type": "execute_result"
    }
   ],
   "source": [
    "## two different things i can do\n",
    "## 1. capture reconventie and conventie before splitting\n",
    "## 2. looking at each point separately and judging then\n",
    "## I implement 1\n",
    "## pipeline as follows. Loop through all beslissingen\n",
    "beslissing = text['De beslissing'].iloc[325]\n",
    "\n",
    "lose = dict()\n",
    "lose_conv = dict()\n",
    "lose_reconv = dict()\n",
    "money = dict()\n",
    "money_conv = dict()\n",
    "money_reconv = dict()\n",
    "\n",
    "if re.search(r'reconventie', beslissing):\n",
    "    # Split up conventie and reconventie part\n",
    "    conventie, _, reconventie = clause.partition('reconventie')\n",
    "    ### 2. loop through all clauses to find the numbers involved (conventie)\n",
    "    clauses = re.split('\\d\\.\\d\\.', conventie)\n",
    "    for i, clause in enumerate(clauses):\n",
    "        lose_conv[i] = re.search(r\"wijst.*vorder.*af|.*niet-ontvankelijk.*\", clause)\n",
    "        bedragen = re.findall(r\"€ .*?\\s\", clause)\n",
    "        numbers = [aux.convert_money(x) for x in bedragen]\n",
    "        unique_numbers = set(numbers)\n",
    "        money_conv[i] = unique_numbers\n",
    "    ### 3. loop through all clauses to find the numbers involved (reconventie)\n",
    "    clauses = re.split('\\d\\.\\d\\.', reconventie)\n",
    "    for i, clause in enumerate(clauses):\n",
    "        lose_reconv[i] = re.search(r\"wijst.*vorder.*af|.*niet-ontvankelijk.*\", clause)\n",
    "        bedragen = re.findall(r\"€ .*?\\s\", clause)\n",
    "        numbers = [aux.convert_money(x) for x in bedragen]\n",
    "        unique_numbers = set(numbers)\n",
    "        money_reconv[i] = unique_numbers\n",
    "               \n",
    "else:\n",
    "    clauses = re.split('\\d\\.\\d\\.', beslissing)\n",
    "    for i, clause in enumerate(clauses):\n",
    "        ### 3. Within loop, extract the first number after each veroordeling\n",
    "        lose[i] = re.search(r\"wijst.*vorder.*af|.*niet-ontvankelijk.*\", clause)\n",
    "        bedragen = re.findall(r\"€ .*?\\s\", clause)\n",
    "        numbers = [aux.convert_money(x) for x in bedragen]\n",
    "        unique_numbers = set(numbers)\n",
    "        money[i] = unique_numbers\n",
    "\n",
    "# return lose, lose_conv, lose_reconv, money, money_conv, money_reconv\n",
    "lose\n",
    "money\n"
   ]
  },
  {
   "cell_type": "code",
   "execution_count": 84,
   "id": "ed983e2c",
   "metadata": {},
   "outputs": [],
   "source": [
    "# Find stuff with reconventie in it to test\n",
    "#text['De beslissing'].str.contains('reconventie')[50:100]\n"
   ]
  },
  {
   "cell_type": "code",
   "execution_count": null,
   "id": "e15c7cdc",
   "metadata": {},
   "outputs": [],
   "source": [
    "# To do tomorrow: \n",
    "# Implement all of this stuff in a function using aux, and pay attention to the input:\n",
    "# (one uses the URL, other uses the text)\n",
    "# But can be implemented on merged DataFrame of the two"
   ]
  },
  {
   "cell_type": "code",
   "execution_count": null,
   "id": "8ae66aa7",
   "metadata": {},
   "outputs": [],
   "source": []
  },
  {
   "cell_type": "code",
   "execution_count": null,
   "id": "4d576056",
   "metadata": {},
   "outputs": [],
   "source": []
  }
 ],
 "metadata": {
  "kernelspec": {
   "display_name": "Python 3 (ipykernel)",
   "language": "python",
   "name": "python3"
  },
  "language_info": {
   "codemirror_mode": {
    "name": "ipython",
    "version": 3
   },
   "file_extension": ".py",
   "mimetype": "text/x-python",
   "name": "python",
   "nbconvert_exporter": "python",
   "pygments_lexer": "ipython3",
   "version": "3.9.13"
  }
 },
 "nbformat": 4,
 "nbformat_minor": 5
}
